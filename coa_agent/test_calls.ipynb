{
 "cells": [
  {
   "cell_type": "code",
   "execution_count": 13,
   "id": "337d0755",
   "metadata": {},
   "outputs": [],
   "source": [
    "APP_URL='https://adk-default-service-name-641081974165.us-central1.run.app'"
   ]
  },
  {
   "cell_type": "code",
   "execution_count": null,
   "id": "c3b43646",
   "metadata": {},
   "outputs": [],
   "source": [
    "## For application code: \n",
    "# import google.auth.transport.requests\n",
    "# import google.oauth2.id_token\n",
    "# request = google.auth.transport.requests.Request()\n",
    "# id_token = google.oauth2.id_token.fetch_id_token(request, APP_URL)"
   ]
  },
  {
   "cell_type": "code",
   "execution_count": 75,
   "id": "813ca887",
   "metadata": {},
   "outputs": [],
   "source": [
    "# For local dev\n",
    "import google.auth\n",
    "import google.auth.transport.requests\n",
    "import google.oauth2.id_token\n",
    "import os\n",
    "\n",
    "def get_id_token_local_env(cloud_run_url: str) -> str:\n",
    "    \"\"\"\n",
    "    Obtains an ID token for a Cloud Run service in a local environment using ADC.\n",
    "    Requires GOOGLE_APPLICATION_CREDENTIALS to be set.\n",
    "    \"\"\"\n",
    "    credentials, project = google.auth.default(\n",
    "        scopes=[\"https://www.googleapis.com/auth/cloud-platform\"]\n",
    "    )\n",
    "    request = google.auth.transport.requests.Request()\n",
    "    \n",
    "    # If credentials don't have an ID token, refresh them to get one\n",
    "    if not hasattr(credentials, 'id_token') or credentials.id_token is None:\n",
    "        credentials.refresh(request)\n",
    "        \n",
    "    # If still no ID token, explicitly fetch one for the target audience\n",
    "    if not hasattr(credentials, 'id_token') or credentials.id_token is None:\n",
    "        id_token = google.oauth2.id_token.fetch_id_token(request, cloud_run_url, credentials=credentials)\n",
    "    else:\n",
    "        id_token = credentials.id_token\n",
    "\n",
    "    return id_token\n",
    "\n",
    "# Example usage:\n",
    "# os.environ[\"GOOGLE_APPLICATION_CREDENTIALS\"] = \"/path/to/your/service-account-key.json\"\n",
    "# cloud_run_service_url = \"https://your-cloud-run-service-url.run.app\"\n",
    "# token = get_id_token_local_env(cloud_run_service_url)\n",
    "# print(f\"ID Token: {token}\")\n",
    "\n",
    "token = get_id_token_local_env(APP_URL)"
   ]
  },
  {
   "cell_type": "code",
   "execution_count": 76,
   "id": "610db5b1",
   "metadata": {},
   "outputs": [
    {
     "data": {
      "text/plain": [
       "'https://adk-default-service-name-641081974165.us-central1.run.app/list-apps'"
      ]
     },
     "execution_count": 76,
     "metadata": {},
     "output_type": "execute_result"
    }
   ],
   "source": [
    "APP_URL+'/list-apps'"
   ]
  },
  {
   "cell_type": "code",
   "execution_count": 77,
   "id": "7a719648",
   "metadata": {},
   "outputs": [
    {
     "data": {
      "text/plain": [
       "'[\"test_agents\"]'"
      ]
     },
     "execution_count": 77,
     "metadata": {},
     "output_type": "execute_result"
    }
   ],
   "source": [
    "# Authenticate \n",
    "import requests\n",
    "# curl -X GET -H \"Authorization: Bearer $TOKEN\" $APP_URL/list-apps\n",
    "headers = {\n",
    "    \"Authorization\": f\"Bearer {token}\"\n",
    "}\n",
    "\n",
    "response = requests.get(APP_URL+'/list-apps', headers=headers)\n",
    "response.text"
   ]
  },
  {
   "cell_type": "code",
   "execution_count": 86,
   "id": "bd81af2c",
   "metadata": {},
   "outputs": [],
   "source": [
    "# curl -X POST -H \"Authorization: Bearer $TOKEN\" \\\n",
    "#     $APP_URL/apps/capital_agent/users/user_123/sessions/session_abc \\\n",
    "#     -H \"Content-Type: application/json\" \\\n",
    "#     -d '{\"state\": {\"preferred_language\": \"English\", \"visit_count\": 5}}'\n",
    "session_id = 'Sample COA non conform.pdf'\n",
    "user_id = 'User_id'\n",
    "session_headers = {\n",
    "    \"Authorization\": f\"Bearer {token}\",\n",
    "     \"Content-Type\": \"application/json\"\n",
    "}\n",
    "session_data = {\n",
    "    \"state\": {\n",
    "        \"preferred_language\": \"English\",\n",
    "        \"visit_count\": 5\n",
    "    }\n",
    "}\n",
    "session_url = APP_URL+f'/apps/test_agents/users/{user_id}/sessions/{session_id}'\n",
    "response = requests.post(session_url, json=session_data, headers=session_headers)\n"
   ]
  },
  {
   "cell_type": "code",
   "execution_count": 87,
   "id": "21984bb5",
   "metadata": {},
   "outputs": [
    {
     "data": {
      "text/plain": [
       "'{\"id\":\"Sample COA non conform.pdf\",\"appName\":\"test_agents\",\"userId\":\"User_id\",\"state\":{\"state\":{\"preferred_language\":\"English\",\"visit_count\":5}},\"events\":[],\"lastUpdateTime\":1758230357.7113976}'"
      ]
     },
     "execution_count": 87,
     "metadata": {},
     "output_type": "execute_result"
    }
   ],
   "source": [
    "response.text"
   ]
  },
  {
   "cell_type": "code",
   "execution_count": 72,
   "id": "d36dca47",
   "metadata": {},
   "outputs": [],
   "source": [
    "gcs_uri ='gs://schreiber-hackathon/Sample COA non conform.pdf'\n",
    "prompt_url=APP_URL+'/run_sse'\n",
    "prompt_headers = {\n",
    "    \"Authorization\": f\"Bearer {token}\",\n",
    "     \"Content-Type\": \"application/json\"\n",
    "}\n",
    "\n",
    "prompt_data ={\n",
    "    \"app_name\": \"test_agents\",\n",
    "    \"user_id\": f\"{user_id}\",\n",
    "    \"session_id\":f\"{session_id}\",\n",
    "    \"new_message\": {\n",
    "        \"role\": \"user\",\n",
    "        \"parts\": [{\n",
    "        \"text\": gcs_uri\n",
    "        }]\n",
    "    },\n",
    "    \"streaming\": False\n",
    "    }\n",
    "response = requests.post(prompt_url, json=prompt_data, headers=prompt_headers)\n"
   ]
  },
  {
   "cell_type": "code",
   "execution_count": 73,
   "id": "b8fb0f5a",
   "metadata": {},
   "outputs": [
    {
     "data": {
      "text/plain": [
       "'data: {\"content\":{\"parts\":[{\"thoughtSignature\":\"Co8HAR_MhbaKoayfg9-JIn-Bokn-H28m1TzMkh8GDstVrlMcEu7Of-v5fWCY9UkT7byeBb4m7Bbuasf3WiERVRltjxvVW1USyah2j8R_3-UxRxVsWjclUFOPTxiceozSV-ElgJiuPEKkC--4eXPHUfbgqZXzogV02eZqlA-TzNXG4RbWmC0soqHq7k1FVZPBvDtj0vbSxMDeQ-L4SdzwKdbjyCPjcX37VbiXkd2KI4_Kv7D_jyIWVj0wQX-HfYBJfSgzUv6lqo1CkgBv9iGML4iygy_c0Diy1RaEVC4SmdD-ZwMkotKQvR4ADwj9f2pKHg303b41AQwtvSV7Dtkz58l8GSG-kl8ceMwQBTIBCzQWqzP9tZJFLF6KdHxrtiVFLebBIHQc-81D1XfmXYnfTYU6XENJc_lEnsQKKulPnqwYur3CmLeFjfzjfVjS2I3nbWhcuPk5aXPaAsggSq6X1AocuOtNSRi1ypbk5PI7kxSoa0Qs0McC_FSD42JGzxa2xE4utbRSlrnQob0NZHrZ-0LCQWsty9JgSbHHvieMyFK6aOl7N313Glsaz2Oyvj9Dh-XhzyZGsBMdOfRDgc26wKY32BtZLKEJZWRaaJz30UpU_KXdT1r_QTFPuBtCBqD9BnlUJUOiHir3sP5vrPG3OSRGt7Xbaeduf0I9lSe6wtWDkc-mbW5qO0ndHcLxAXxiSWcM3Jw3ruvnPLBzoQ1ZOPh4uAWelUX1YF707eze8YoxT133KZepwarBEM4PqJDvULtQ4WZBpKtxCczpmAYHwYueVi_8IS1lb2fGlCZxotjNCRz5zVY4drmaAsqTNUwyo-xCBHI17q4PR8ixWQiTpwMfxy5aYuCaVT1Z5r5b0uJ090T1TqhJ9n9hYVpdBvoK5GT2C1PwE_lbuzognAlHoHaZEaTB9RwuYu2KvefUeKIEF6EH_ofxmB7og-nph9Cu1XyltejbQGwhN-KPjGeTrUQ6m5vnvKt8opD1pwNArVJzFJkob81WIdbJtoX1ry5f0XhP7v3eeQvvU4DNZxfBlN0_e0iArKnP3r27kuJHmEC-myw5jeKXhBW3rF8fv6x9t8JyVjjiPmUHnT7Sf74DLQaZYP1vyDjm0hdqUIcYkujR6Nn445p5AxKAqdAS1t5yaB9QsH62h8JjcFlKk7PQgxbR0jngJxlW0aJS3Fp88SIBWkYHktgHLpaMuAypaXp2Bvo=\",\"functionCall\":{\"id\":\"adk-b35cc214-b074-44b5-b0ff-f923bc928374\",\"args\":{\"gcs_uri\":\"gs://schreiber-hackathon/Sample COA non conform.pdf\"},\"name\":\"get_product_number\"}}],\"role\":\"model\"},\"finishReason\":\"STOP\",\"usageMetadata\":{\"candidatesTokenCount\":22,\"candidatesTokensDetails\":[{\"modality\":\"TEXT\",\"tokenCount\":22}],\"promptTokenCount\":1602,\"promptTokensDetails\":[{\"modality\":\"TEXT\",\"tokenCount\":1914}],\"thoughtsTokenCount\":218,\"totalTokenCount\":1842,\"trafficType\":\"ON_DEMAND\"},\"invocationId\":\"e-86000205-c62a-4d3c-a931-338ea4f738e7\",\"author\":\"COAAnalysisAgent\",\"actions\":{\"stateDelta\":{},\"artifactDelta\":{},\"requestedAuthConfigs\":{},\"requestedToolConfirmations\":{}},\"longRunningToolIds\":[],\"id\":\"74067cd9-603b-4ec7-ba55-84b008b1fa05\",\"timestamp\":1758221749.517847}\\n\\ndata: {\"content\":{\"parts\":[{\"functionResponse\":{\"id\":\"adk-b35cc214-b074-44b5-b0ff-f923bc928374\",\"name\":\"get_product_number\",\"response\":{\"status\":\"success\",\"Product\":\"ES788\"}}}],\"role\":\"user\"},\"invocationId\":\"e-86000205-c62a-4d3c-a931-338ea4f738e7\",\"author\":\"COAAnalysisAgent\",\"actions\":{\"stateDelta\":{\"product\":\"ES788\"},\"artifactDelta\":{},\"requestedAuthConfigs\":{},\"requestedToolConfirmations\":{}},\"id\":\"c934b975-f545-4e0a-a0cd-5f0bf33e028e\",\"timestamp\":1758221753.480181}\\n\\ndata: {\"content\":{\"parts\":[{\"thoughtSignature\":\"CvECAR_MhbaBaUCNfEYoZQuw6WIfjmCB8okk_Md9oL-DThbU6TZClw_zyjIj3wr4qrFoEdnkkKD6JEvyFGbECvBLIbAfIl1wH3_zl1VT23Le_e95DtS3C3c74sYzC-qMHD-fxC-3up9p03TlYTf5ewaAkCizn16j5lhrpEEmzTonvQBE5XI2gZeGxmdGHcNezTBXMy9A-LVCiZTgYp93Tb5kzQmCeZPcSfzfPkKI4zmLGIu5RmoSn8F7-GaLhkABNHIm616wvfEVhGi7sMuTiscnfB7hSO5PiPxVAP7QCc3HVBf33tQ-o1PBixrFzx9bf4crY2FZtmXk4ymdwmA0V9Rjse3A10sg5Q2_9hMv7hcEfUUiaJm_M3OW5b6nrQwF5WnypYChWTYMimsazU4lx_ezmk8RWBSNjezfGNm0gWUCL3VDNlMyXtNbTto7SU8OalY78oXpjiQkC4qpdhs2MSV6neKtus7j4eUxSbLTuWjRWxBO\",\"functionCall\":{\"id\":\"adk-09923154-afac-41f8-b802-74e5a4032607\",\"args\":{\"gcs_uri\":\"gs://schreiber-hackathon/Sample COA non conform.pdf\",\"product\":\"ES788\"},\"name\":\"compare_docs\"}}],\"role\":\"model\"},\"finishReason\":\"STOP\",\"usageMetadata\":{\"cacheTokensDetails\":[{\"modality\":\"TEXT\",\"tokenCount\":1163}],\"cachedContentTokenCount\":1163,\"candidatesTokenCount\":25,\"candidatesTokensDetails\":[{\"modality\":\"TEXT\",\"tokenCount\":25}],\"promptTokenCount\":1636,\"promptTokensDetails\":[{\"modality\":\"TEXT\",\"tokenCount\":2164}],\"thoughtsTokenCount\":87,\"totalTokenCount\":1748,\"trafficType\":\"ON_DEMAND\"},\"invocationId\":\"e-86000205-c62a-4d3c-a931-338ea4f738e7\",\"author\":\"COAAnalysisAgent\",\"actions\":{\"stateDelta\":{},\"artifactDelta\":{},\"requestedAuthConfigs\":{},\"requestedToolConfirmations\":{}},\"longRunningToolIds\":[],\"id\":\"a2c4a079-a325-44d6-ad6d-712b31baf2ef\",\"timestamp\":1758221753.484334}\\n\\ndata: {\"content\":{\"parts\":[{\"functionResponse\":{\"id\":\"adk-09923154-afac-41f8-b802-74e5a4032607\",\"name\":\"compare_docs\",\"response\":{\"status\":\"success\",\"summary\":\"**Analysis of COA against Spec Sheet for Product No.: ES788**\\\\n\\\\nHere\\'s a comparison of the observed values from the COA against the required specifications:\\\\n\\\\n1.  **Appearance:**\\\\n    *   **COA Observation:** Clear\\\\n    *   **Specification Requirement:** Clear, colorless, no observable particulate\\\\n    *   **Finding:** The COA indicates \\\\\"Clear,\\\\\" which aligns with part of the specification. However, it does not explicitly state \\\\\"colorless\\\\\" or \\\\\"no observable particulate.\\\\\" While \\\\\"Clear\\\\\" often implies no particulates, the \\\\\"colorless\\\\\" aspect is not directly confirmed by this parameter alone.\\\\n\\\\n2.  **Color (APHA):**\\\\n    *   **COA Observation:** 15\\\\n    *   **Specification Requirement:** 10 Max\\\\n    *   **Finding:** The observed Color (APHA) of **15** exceeds the maximum allowed limit of **10**. This parameter **does not meet the requirement.**\\\\n\\\\n3.  **Specific Gravity @20°C:**\\\\n    *   **COA Observation:** 0.929 @20°C\\\\n    *   **Specification Requirement:** 0.9114-0.9246 @20°C\\\\n    *   **Finding:** The observed Specific Gravity of **0.929** is outside the specified range of 0.9114 to 0.9246 (it is higher than the upper limit). This parameter **does not meet the requirement.**\\\\n\\\\n**Summary:**\\\\n\\\\nThe product, Product No.: ES788, as described in the provided Certificate of Analysis, **does not comply** with the requirements outlined in the Spec Sheet. Specifically, it fails to meet the specifications for:\\\\n\\\\n*   **Color (APHA):** The observed value (15) is higher than the maximum allowed (10).\\\\n*   **Specific Gravity @20°C:** The observed value (0.929) is outside the acceptable range (0.9114-0.9246).\"}}}],\"role\":\"user\"},\"invocationId\":\"e-86000205-c62a-4d3c-a931-338ea4f738e7\",\"author\":\"COAAnalysisAgent\",\"actions\":{\"stateDelta\":{\"analysis\":\"**Analysis of COA against Spec Sheet for Product No.: ES788**\\\\n\\\\nHere\\'s a comparison of the observed values from the COA against the required specifications:\\\\n\\\\n1.  **Appearance:**\\\\n    *   **COA Observation:** Clear\\\\n    *   **Specification Requirement:** Clear, colorless, no observable particulate\\\\n    *   **Finding:** The COA indicates \\\\\"Clear,\\\\\" which aligns with part of the specification. However, it does not explicitly state \\\\\"colorless\\\\\" or \\\\\"no observable particulate.\\\\\" While \\\\\"Clear\\\\\" often implies no particulates, the \\\\\"colorless\\\\\" aspect is not directly confirmed by this parameter alone.\\\\n\\\\n2.  **Color (APHA):**\\\\n    *   **COA Observation:** 15\\\\n    *   **Specification Requirement:** 10 Max\\\\n    *   **Finding:** The observed Color (APHA) of **15** exceeds the maximum allowed limit of **10**. This parameter **does not meet the requirement.**\\\\n\\\\n3.  **Specific Gravity @20°C:**\\\\n    *   **COA Observation:** 0.929 @20°C\\\\n    *   **Specification Requirement:** 0.9114-0.9246 @20°C\\\\n    *   **Finding:** The observed Specific Gravity of **0.929** is outside the specified range of 0.9114 to 0.9246 (it is higher than the upper limit). This parameter **does not meet the requirement.**\\\\n\\\\n**Summary:**\\\\n\\\\nThe product, Product No.: ES788, as described in the provided Certificate of Analysis, **does not comply** with the requirements outlined in the Spec Sheet. Specifically, it fails to meet the specifications for:\\\\n\\\\n*   **Color (APHA):** The observed value (15) is higher than the maximum allowed (10).\\\\n*   **Specific Gravity @20°C:** The observed value (0.929) is outside the acceptable range (0.9114-0.9246).\"},\"artifactDelta\":{},\"requestedAuthConfigs\":{},\"requestedToolConfirmations\":{}},\"id\":\"13b79a68-ff0c-4892-8e42-c4cf67f29fb5\",\"timestamp\":1758221761.099458}\\n\\ndata: {\"content\":{\"parts\":[{\"thoughtSignature\":\"CtsCAR_MhbYiDHlYpRohFu392ArEY4ZNqS_By5ZbIm36MpkNPhBwW0lpwRuW1mNaMW4fm4A-5qBU1m_-wKJO5OT3iu51ZR3u-LN67zkN282QwDY2s-n3d58cSxWov3zXjJBAUrHCrjzo6OMgMPmAHGZ6SUciSmgybjGZf6Jne5hO5kSm8YIbT1Gm-a-vcd2O8S05C0UFiVhNloRQ4hB-sK8uh4UEls0eaFRut56faEZzWrbbfn9OREept2P1g59Sj11L-H5K097h5HfMoTR4m6PzOTlHVgiS_2mV5GldrzBx8hHbZ8YnEoxFdzNydNlX3cGCFzGznZz3YkbrQvU_JQs7eLhA_-Urnejal3lU7dWYoaaGa2YvXMCtk4fja9HQCkBRARB79A5pnc0VJYQFIh5fzvNZmtDn5ZoxnnC_S-cOEO7f9BOHew6D0KEH5PwDYD_uSPnX7Af1c4mNDJE=\",\"text\":\"Here\\'s an analysis of the COA against the Spec Sheet for Product No.: ES788:\\\\n\\\\n**Analysis of COA against Spec Sheet for Product No.: ES788**\\\\n\\\\nHere\\'s a comparison of the observed values from the COA against the required specifications:\\\\n\\\\n1.  **Appearance:**\\\\n    *   **COA Observation:** Clear\\\\n    *   **Specification Requirement:** Clear, colorless, no observable particulate\\\\n    *   **Finding:** The COA indicates \\\\\"Clear,\\\\\" which aligns with part of the specification. However, it does not explicitly state \\\\\"colorless\\\\\" or \\\\\"no observable particulate.\\\\\" While \\\\\"Clear\\\\\" often implies no particulates, the \\\\\"colorless\\\\\" aspect is not directly confirmed by this parameter alone.\\\\n\\\\n2.  **Color (APHA):**\\\\n    *   **COA Observation:** 15\\\\n    *   **Specification Requirement:** 10 Max\\\\n    *   **Finding:** The observed Color (APHA) of **15** exceeds the maximum allowed limit of **10**. This parameter **does not meet the requirement.**\\\\n\\\\n3.  **Specific Gravity @20°C:**\\\\n    *   **COA Observation:** 0.929 @20°C\\\\n    *   **Specification Requirement:** 0.9114-0.9246 @20°C\\\\n    *   **Finding:** The observed Specific Gravity of **0.929** is outside the specified range of 0.9114 to 0.9246 (it is higher than the upper limit). This parameter **does not meet the requirement.**\\\\n\\\\n**Summary:**\\\\n\\\\nThe product, Product No.: ES788, as described in the provided Certificate of Analysis, **does not comply** with the requirements outlined in the Spec Sheet. Specifically, it fails to meet the specifications for:\\\\n\\\\n*   **Color (APHA):** The observed value (15) is higher than the maximum allowed (10).\\\\n*   **Specific Gravity @20°C:** The observed value (0.929) is outside the acceptable range (0.9114-0.9246).\\\\n\\\\nI will now transfer to the HoldPipelineAgent to execute the product hold pipeline.\"},{\"functionCall\":{\"id\":\"adk-a0584d6e-ed7a-41dc-a8f5-0095c2aea610\",\"args\":{\"agent_name\":\"HoldPipelineAgent\"},\"name\":\"transfer_to_agent\"}}],\"role\":\"model\"},\"finishReason\":\"STOP\",\"usageMetadata\":{\"cacheTokensDetails\":[{\"modality\":\"TEXT\",\"tokenCount\":1227}],\"cachedContentTokenCount\":1227,\"candidatesTokenCount\":485,\"candidatesTokensDetails\":[{\"modality\":\"TEXT\",\"tokenCount\":485}],\"promptTokenCount\":2102,\"promptTokensDetails\":[{\"modality\":\"TEXT\",\"tokenCount\":2715}],\"thoughtsTokenCount\":70,\"totalTokenCount\":2657,\"trafficType\":\"ON_DEMAND\"},\"invocationId\":\"e-86000205-c62a-4d3c-a931-338ea4f738e7\",\"author\":\"COAAnalysisAgent\",\"actions\":{\"stateDelta\":{},\"artifactDelta\":{},\"requestedAuthConfigs\":{},\"requestedToolConfirmations\":{}},\"longRunningToolIds\":[],\"id\":\"5abe3e2e-1c15-4622-b231-47a157a00326\",\"timestamp\":1758221761.104489}\\n\\ndata: {\"content\":{\"parts\":[{\"functionResponse\":{\"id\":\"adk-a0584d6e-ed7a-41dc-a8f5-0095c2aea610\",\"name\":\"transfer_to_agent\",\"response\":{\"result\":null}}}],\"role\":\"user\"},\"invocationId\":\"e-86000205-c62a-4d3c-a931-338ea4f738e7\",\"author\":\"COAAnalysisAgent\",\"actions\":{\"stateDelta\":{},\"artifactDelta\":{},\"transferToAgent\":\"HoldPipelineAgent\",\"requestedAuthConfigs\":{},\"requestedToolConfirmations\":{}},\"id\":\"7e33b37a-82a4-4796-b41a-6a7bdb015196\",\"timestamp\":1758221763.393787}\\n\\ndata: {\"content\":{\"parts\":[{\"thoughtSignature\":\"CvEDAR_MhbYyKCmF9jJrDUzdpHO6dQvCJQNQePD6l0_XTY99PvLa-twUetRwRcCTQbNJNV0DdeocbGwYh_crVHNukZob9wt7pwS2YP1DdgLOu3Pz04fOptjepleBilfE0MpI2_58YoEA38vatmXHbupukD9-qlHkBS3v5v9X6dzlNRluxD43gQ2GPaguao2-XPEObt6X-qnp_KjdVhEdr5CIsc0uLVPnnqmb48kIkmeDu6jmJgSYblRCaNjHwAfEXG0BA5nIGvz6GQdNV_ztXqLIy_yEjkcEhSvZRcTo6z4qLH-wIW8iJ7L9uFYe-ygEQTg9TtigA6erBz8_C1qaEtR3LVjSOaDJcrcRl_fnWADEFyWtxRl8w9qU3sWnDiULiNJ5trUsE_cDZImnAwaFHwmr6w1sMPjTa8f0HR4toYC9zJ7cI84_5KtjACtq5nUwaKU_v0-bE9EnfjDen687bqh2rMGn5cJBoMAHgcFhz7JUSI38Op9Rh-AGPk2ElwX8zOGSCjGBrCArLPFp98eXs52HoG__2OuAld3Sav3P-eYnC93GSNdNsq0PXWGzDgG0a47cBRT9Gm0ZPQ-6GgZ1EWJO6i52zKMxRgF8W9_JOBKx4oGYQqwaWZjeALhnJeTTCtwde4xGmQw_klmLbl7SzY00AMo=\",\"functionCall\":{\"id\":\"adk-ac27db54-658a-4264-bb0b-bcdb5105a19f\",\"args\":{},\"name\":\"determine_hold\"}}],\"role\":\"model\"},\"finishReason\":\"STOP\",\"usageMetadata\":{\"candidatesTokenCount\":3,\"candidatesTokensDetails\":[{\"modality\":\"TEXT\",\"tokenCount\":3}],\"promptTokenCount\":2454,\"promptTokensDetails\":[{\"modality\":\"TEXT\",\"tokenCount\":2743}],\"thoughtsTokenCount\":94,\"totalTokenCount\":2551,\"trafficType\":\"ON_DEMAND\"},\"invocationId\":\"e-86000205-c62a-4d3c-a931-338ea4f738e7\",\"author\":\"ProductHoldAgent\",\"actions\":{\"stateDelta\":{},\"artifactDelta\":{},\"requestedAuthConfigs\":{},\"requestedToolConfirmations\":{}},\"longRunningToolIds\":[],\"id\":\"e2de35c3-1bb5-441a-937e-9e88750b7d39\",\"timestamp\":1758221763.396977}\\n\\ndata: {\"content\":{\"parts\":[{\"functionResponse\":{\"id\":\"adk-ac27db54-658a-4264-bb0b-bcdb5105a19f\",\"name\":\"determine_hold\",\"response\":{\"status\":\"success\",\"summary\":\"The product does not conform and should be put on hold.\"}}}],\"role\":\"user\"},\"invocationId\":\"e-86000205-c62a-4d3c-a931-338ea4f738e7\",\"author\":\"ProductHoldAgent\",\"actions\":{\"stateDelta\":{\"product_hold\":\"true\"},\"artifactDelta\":{},\"requestedAuthConfigs\":{},\"requestedToolConfirmations\":{}},\"id\":\"f9c8b152-21cb-43a6-a51d-b11f264f3f50\",\"timestamp\":1758221768.797178}\\n\\ndata: {\"content\":{\"parts\":[{\"text\":\"The product does not conform to specifications and should be put on hold.\"}],\"role\":\"model\"},\"finishReason\":\"STOP\",\"usageMetadata\":{\"cacheTokensDetails\":[{\"modality\":\"TEXT\",\"tokenCount\":2254}],\"cachedContentTokenCount\":2254,\"candidatesTokenCount\":14,\"candidatesTokensDetails\":[{\"modality\":\"TEXT\",\"tokenCount\":14}],\"promptTokenCount\":2475,\"promptTokensDetails\":[{\"modality\":\"TEXT\",\"tokenCount\":2856}],\"totalTokenCount\":2489,\"trafficType\":\"ON_DEMAND\"},\"invocationId\":\"e-86000205-c62a-4d3c-a931-338ea4f738e7\",\"author\":\"ProductHoldAgent\",\"actions\":{\"stateDelta\":{},\"artifactDelta\":{},\"requestedAuthConfigs\":{},\"requestedToolConfirmations\":{}},\"id\":\"6d133067-5973-42b5-ade0-dfb46897de41\",\"timestamp\":1758221768.801683}\\n\\ndata: {\"content\":{\"parts\":[{\"thoughtSignature\":\"CoIEAR_MhbbupMrEhWdGm_NuAZtG_Gwjalg5Ly2qjzhaLZn1uq1_h1tZk4ctzt8Va6WbnJsKYRZj7v5JS8FLNmERH5wBxdGrnAZnTZlz9_j_esLEI_V43780dxpH_tpBHcH61S3ZweQ_x-91mxAu-XT2MYgiwzv8lnfNW95jY26LAwxwFny5ATN5ggo3hR4bx0zPgIpcL1O5LzhVUX5xhLlAka6q_4X9HFA8YHBu27lKZ6RPSMFk4vOlyHd8Y-Yl2NMcBJsTVtff5TmsinhhZ1j9lrmTvNA8I897BeAC1d1WWhqSv--RHOQW1mT5ckv8XYPpAqmBSBG1HCk0sMKkQr_s47T6DJgCQAqGvZZUh0ZBLfHIkKdNIvTyhyprWgxRc73qVlufTrkJGVry5bdietAoU8U3ry9JufI8l2jgow6oYuHS-LD4j-9gVIYkMynxzgxbnprl5bwprgoEh0UBvdRyk_6Dub-Nu1LVKjToDUDefq6qoOW0gG1AW6yPIjk2ry4ZwrQByZ4fJlnM1XmcA05exWpym0Zxuvk62oKYwzpV8uCdqwKmXE9chCjEmbC5a0Go_60-3LsXVSPLZ_Rh93UYM6WMYVdDqEdGKqYWYGjjrGOuI9rXcekDKPydqsg1AO_lp1UTYB_bHL3mn1gdZL3rgSQx7IvkVBMhiJo-kZp52iNHbg==\",\"functionCall\":{\"id\":\"adk-05bbd6a8-cd19-4325-b802-513eefd83397\",\"args\":{},\"name\":\"update_hold_database\"}}],\"role\":\"model\"},\"finishReason\":\"STOP\",\"usageMetadata\":{\"candidatesTokenCount\":5,\"candidatesTokensDetails\":[{\"modality\":\"TEXT\",\"tokenCount\":5}],\"promptTokenCount\":2468,\"promptTokensDetails\":[{\"modality\":\"TEXT\",\"tokenCount\":2568}],\"thoughtsTokenCount\":105,\"totalTokenCount\":2578,\"trafficType\":\"ON_DEMAND\"},\"invocationId\":\"e-86000205-c62a-4d3c-a931-338ea4f738e7\",\"author\":\"DatabaseUpdateAgent\",\"actions\":{\"stateDelta\":{},\"artifactDelta\":{},\"requestedAuthConfigs\":{},\"requestedToolConfirmations\":{}},\"longRunningToolIds\":[],\"id\":\"08eb54b8-12de-4478-a16f-781a5a3962aa\",\"timestamp\":1758221769.718868}\\n\\ndata: {\"content\":{\"parts\":[{\"functionResponse\":{\"id\":\"adk-05bbd6a8-cd19-4325-b802-513eefd83397\",\"name\":\"update_hold_database\",\"response\":{\"status\":\"success\",\"message\":\"The product has been put on hold.\"}}}],\"role\":\"user\"},\"invocationId\":\"e-86000205-c62a-4d3c-a931-338ea4f738e7\",\"author\":\"DatabaseUpdateAgent\",\"actions\":{\"stateDelta\":{},\"artifactDelta\":{},\"requestedAuthConfigs\":{},\"requestedToolConfirmations\":{}},\"id\":\"af3413ae-bed3-46d9-980e-66fa3cb83a05\",\"timestamp\":1758221771.177159}\\n\\ndata: {\"content\":{\"parts\":[{\"text\":\"The product has been put on hold.\"}],\"role\":\"model\"},\"finishReason\":\"STOP\",\"usageMetadata\":{\"cacheTokensDetails\":[{\"modality\":\"TEXT\",\"tokenCount\":1591}],\"cachedContentTokenCount\":1591,\"candidatesTokenCount\":8,\"candidatesTokensDetails\":[{\"modality\":\"TEXT\",\"tokenCount\":8}],\"promptTokenCount\":2489,\"promptTokensDetails\":[{\"modality\":\"TEXT\",\"tokenCount\":2692}],\"totalTokenCount\":2497,\"trafficType\":\"ON_DEMAND\"},\"invocationId\":\"e-86000205-c62a-4d3c-a931-338ea4f738e7\",\"author\":\"DatabaseUpdateAgent\",\"actions\":{\"stateDelta\":{},\"artifactDelta\":{},\"requestedAuthConfigs\":{},\"requestedToolConfirmations\":{}},\"id\":\"9e0c1043-181f-46d2-9861-662f67a9447a\",\"timestamp\":1758221771.182128}\\n\\n'"
      ]
     },
     "execution_count": 73,
     "metadata": {},
     "output_type": "execute_result"
    }
   ],
   "source": [
    "import json\n",
    "# json.loads(response.text.split('data: ', 1)[1].strip())['content']['parts'][0]['text']\n",
    "response.text"
   ]
  },
  {
   "cell_type": "code",
   "execution_count": 74,
   "id": "464dfbd4",
   "metadata": {},
   "outputs": [
    {
     "name": "stdout",
     "output_type": "stream",
     "text": [
      "{\"content\":{\"parts\":[{\"thoughtSignature\":\"Co8HAR_MhbaKoayfg9-JIn-Bokn-H28m1TzMkh8GDstVrlMcEu7Of-v5fWCY9UkT7byeBb4m7Bbuasf3WiERVRltjxvVW1USyah2j8R_3-UxRxVsWjclUFOPTxiceozSV-ElgJiuPEKkC--4eXPHUfbgqZXzogV02eZqlA-TzNXG4RbWmC0soqHq7k1FVZPBvDtj0vbSxMDeQ-L4SdzwKdbjyCPjcX37VbiXkd2KI4_Kv7D_jyIWVj0wQX-HfYBJfSgzUv6lqo1CkgBv9iGML4iygy_c0Diy1RaEVC4SmdD-ZwMkotKQvR4ADwj9f2pKHg303b41AQwtvSV7Dtkz58l8GSG-kl8ceMwQBTIBCzQWqzP9tZJFLF6KdHxrtiVFLebBIHQc-81D1XfmXYnfTYU6XENJc_lEnsQKKulPnqwYur3CmLeFjfzjfVjS2I3nbWhcuPk5aXPaAsggSq6X1AocuOtNSRi1ypbk5PI7kxSoa0Qs0McC_FSD42JGzxa2xE4utbRSlrnQob0NZHrZ-0LCQWsty9JgSbHHvieMyFK6aOl7N313Glsaz2Oyvj9Dh-XhzyZGsBMdOfRDgc26wKY32BtZLKEJZWRaaJz30UpU_KXdT1r_QTFPuBtCBqD9BnlUJUOiHir3sP5vrPG3OSRGt7Xbaeduf0I9lSe6wtWDkc-mbW5qO0ndHcLxAXxiSWcM3Jw3ruvnPLBzoQ1ZOPh4uAWelUX1YF707eze8YoxT133KZepwarBEM4PqJDvULtQ4WZBpKtxCczpmAYHwYueVi_8IS1lb2fGlCZxotjNCRz5zVY4drmaAsqTNUwyo-xCBHI17q4PR8ixWQiTpwMfxy5aYuCaVT1Z5r5b0uJ090T1TqhJ9n9hYVpdBvoK5GT2C1PwE_lbuzognAlHoHaZEaTB9RwuYu2KvefUeKIEF6EH_ofxmB7og-nph9Cu1XyltejbQGwhN-KPjGeTrUQ6m5vnvKt8opD1pwNArVJzFJkob81WIdbJtoX1ry5f0XhP7v3eeQvvU4DNZxfBlN0_e0iArKnP3r27kuJHmEC-myw5jeKXhBW3rF8fv6x9t8JyVjjiPmUHnT7Sf74DLQaZYP1vyDjm0hdqUIcYkujR6Nn445p5AxKAqdAS1t5yaB9QsH62h8JjcFlKk7PQgxbR0jngJxlW0aJS3Fp88SIBWkYHktgHLpaMuAypaXp2Bvo=\",\"functionCall\":{\"id\":\"adk-b35cc214-b074-44b5-b0ff-f923bc928374\",\"args\":{\"gcs_uri\":\"gs://schreiber-hackathon/Sample COA non conform.pdf\"},\"name\":\"get_product_number\"}}],\"role\":\"model\"},\"finishReason\":\"STOP\",\"usageMetadata\":{\"candidatesTokenCount\":22,\"candidatesTokensDetails\":[{\"modality\":\"TEXT\",\"tokenCount\":22}],\"promptTokenCount\":1602,\"promptTokensDetails\":[{\"modality\":\"TEXT\",\"tokenCount\":1914}],\"thoughtsTokenCount\":218,\"totalTokenCount\":1842,\"trafficType\":\"ON_DEMAND\"},\"invocationId\":\"e-86000205-c62a-4d3c-a931-338ea4f738e7\",\"author\":\"COAAnalysisAgent\",\"actions\":{\"stateDelta\":{},\"artifactDelta\":{},\"requestedAuthConfigs\":{},\"requestedToolConfirmations\":{}},\"longRunningToolIds\":[],\"id\":\"74067cd9-603b-4ec7-ba55-84b008b1fa05\",\"timestamp\":1758221749.517847}\n",
      "\n",
      "data: {\"content\":{\"parts\":[{\"functionResponse\":{\"id\":\"adk-b35cc214-b074-44b5-b0ff-f923bc928374\",\"name\":\"get_product_number\",\"response\":{\"status\":\"success\",\"Product\":\"ES788\"}}}],\"role\":\"user\"},\"invocationId\":\"e-86000205-c62a-4d3c-a931-338ea4f738e7\",\"author\":\"COAAnalysisAgent\",\"actions\":{\"stateDelta\":{\"product\":\"ES788\"},\"artifactDelta\":{},\"requestedAuthConfigs\":{},\"requestedToolConfirmations\":{}},\"id\":\"c934b975-f545-4e0a-a0cd-5f0bf33e028e\",\"timestamp\":1758221753.480181}\n",
      "\n",
      "data: {\"content\":{\"parts\":[{\"thoughtSignature\":\"CvECAR_MhbaBaUCNfEYoZQuw6WIfjmCB8okk_Md9oL-DThbU6TZClw_zyjIj3wr4qrFoEdnkkKD6JEvyFGbECvBLIbAfIl1wH3_zl1VT23Le_e95DtS3C3c74sYzC-qMHD-fxC-3up9p03TlYTf5ewaAkCizn16j5lhrpEEmzTonvQBE5XI2gZeGxmdGHcNezTBXMy9A-LVCiZTgYp93Tb5kzQmCeZPcSfzfPkKI4zmLGIu5RmoSn8F7-GaLhkABNHIm616wvfEVhGi7sMuTiscnfB7hSO5PiPxVAP7QCc3HVBf33tQ-o1PBixrFzx9bf4crY2FZtmXk4ymdwmA0V9Rjse3A10sg5Q2_9hMv7hcEfUUiaJm_M3OW5b6nrQwF5WnypYChWTYMimsazU4lx_ezmk8RWBSNjezfGNm0gWUCL3VDNlMyXtNbTto7SU8OalY78oXpjiQkC4qpdhs2MSV6neKtus7j4eUxSbLTuWjRWxBO\",\"functionCall\":{\"id\":\"adk-09923154-afac-41f8-b802-74e5a4032607\",\"args\":{\"gcs_uri\":\"gs://schreiber-hackathon/Sample COA non conform.pdf\",\"product\":\"ES788\"},\"name\":\"compare_docs\"}}],\"role\":\"model\"},\"finishReason\":\"STOP\",\"usageMetadata\":{\"cacheTokensDetails\":[{\"modality\":\"TEXT\",\"tokenCount\":1163}],\"cachedContentTokenCount\":1163,\"candidatesTokenCount\":25,\"candidatesTokensDetails\":[{\"modality\":\"TEXT\",\"tokenCount\":25}],\"promptTokenCount\":1636,\"promptTokensDetails\":[{\"modality\":\"TEXT\",\"tokenCount\":2164}],\"thoughtsTokenCount\":87,\"totalTokenCount\":1748,\"trafficType\":\"ON_DEMAND\"},\"invocationId\":\"e-86000205-c62a-4d3c-a931-338ea4f738e7\",\"author\":\"COAAnalysisAgent\",\"actions\":{\"stateDelta\":{},\"artifactDelta\":{},\"requestedAuthConfigs\":{},\"requestedToolConfirmations\":{}},\"longRunningToolIds\":[],\"id\":\"a2c4a079-a325-44d6-ad6d-712b31baf2ef\",\"timestamp\":1758221753.484334}\n",
      "\n",
      "data: {\"content\":{\"parts\":[{\"functionResponse\":{\"id\":\"adk-09923154-afac-41f8-b802-74e5a4032607\",\"name\":\"compare_docs\",\"response\":{\"status\":\"success\",\"summary\":\"**Analysis of COA against Spec Sheet for Product No.: ES788**\\n\\nHere's a comparison of the observed values from the COA against the required specifications:\\n\\n1.  **Appearance:**\\n    *   **COA Observation:** Clear\\n    *   **Specification Requirement:** Clear, colorless, no observable particulate\\n    *   **Finding:** The COA indicates \\\"Clear,\\\" which aligns with part of the specification. However, it does not explicitly state \\\"colorless\\\" or \\\"no observable particulate.\\\" While \\\"Clear\\\" often implies no particulates, the \\\"colorless\\\" aspect is not directly confirmed by this parameter alone.\\n\\n2.  **Color (APHA):**\\n    *   **COA Observation:** 15\\n    *   **Specification Requirement:** 10 Max\\n    *   **Finding:** The observed Color (APHA) of **15** exceeds the maximum allowed limit of **10**. This parameter **does not meet the requirement.**\\n\\n3.  **Specific Gravity @20°C:**\\n    *   **COA Observation:** 0.929 @20°C\\n    *   **Specification Requirement:** 0.9114-0.9246 @20°C\\n    *   **Finding:** The observed Specific Gravity of **0.929** is outside the specified range of 0.9114 to 0.9246 (it is higher than the upper limit). This parameter **does not meet the requirement.**\\n\\n**Summary:**\\n\\nThe product, Product No.: ES788, as described in the provided Certificate of Analysis, **does not comply** with the requirements outlined in the Spec Sheet. Specifically, it fails to meet the specifications for:\\n\\n*   **Color (APHA):** The observed value (15) is higher than the maximum allowed (10).\\n*   **Specific Gravity @20°C:** The observed value (0.929) is outside the acceptable range (0.9114-0.9246).\"}}}],\"role\":\"user\"},\"invocationId\":\"e-86000205-c62a-4d3c-a931-338ea4f738e7\",\"author\":\"COAAnalysisAgent\",\"actions\":{\"stateDelta\":{\"analysis\":\"**Analysis of COA against Spec Sheet for Product No.: ES788**\\n\\nHere's a comparison of the observed values from the COA against the required specifications:\\n\\n1.  **Appearance:**\\n    *   **COA Observation:** Clear\\n    *   **Specification Requirement:** Clear, colorless, no observable particulate\\n    *   **Finding:** The COA indicates \\\"Clear,\\\" which aligns with part of the specification. However, it does not explicitly state \\\"colorless\\\" or \\\"no observable particulate.\\\" While \\\"Clear\\\" often implies no particulates, the \\\"colorless\\\" aspect is not directly confirmed by this parameter alone.\\n\\n2.  **Color (APHA):**\\n    *   **COA Observation:** 15\\n    *   **Specification Requirement:** 10 Max\\n    *   **Finding:** The observed Color (APHA) of **15** exceeds the maximum allowed limit of **10**. This parameter **does not meet the requirement.**\\n\\n3.  **Specific Gravity @20°C:**\\n    *   **COA Observation:** 0.929 @20°C\\n    *   **Specification Requirement:** 0.9114-0.9246 @20°C\\n    *   **Finding:** The observed Specific Gravity of **0.929** is outside the specified range of 0.9114 to 0.9246 (it is higher than the upper limit). This parameter **does not meet the requirement.**\\n\\n**Summary:**\\n\\nThe product, Product No.: ES788, as described in the provided Certificate of Analysis, **does not comply** with the requirements outlined in the Spec Sheet. Specifically, it fails to meet the specifications for:\\n\\n*   **Color (APHA):** The observed value (15) is higher than the maximum allowed (10).\\n*   **Specific Gravity @20°C:** The observed value (0.929) is outside the acceptable range (0.9114-0.9246).\"},\"artifactDelta\":{},\"requestedAuthConfigs\":{},\"requestedToolConfirmations\":{}},\"id\":\"13b79a68-ff0c-4892-8e42-c4cf67f29fb5\",\"timestamp\":1758221761.099458}\n",
      "\n",
      "data: {\"content\":{\"parts\":[{\"thoughtSignature\":\"CtsCAR_MhbYiDHlYpRohFu392ArEY4ZNqS_By5ZbIm36MpkNPhBwW0lpwRuW1mNaMW4fm4A-5qBU1m_-wKJO5OT3iu51ZR3u-LN67zkN282QwDY2s-n3d58cSxWov3zXjJBAUrHCrjzo6OMgMPmAHGZ6SUciSmgybjGZf6Jne5hO5kSm8YIbT1Gm-a-vcd2O8S05C0UFiVhNloRQ4hB-sK8uh4UEls0eaFRut56faEZzWrbbfn9OREept2P1g59Sj11L-H5K097h5HfMoTR4m6PzOTlHVgiS_2mV5GldrzBx8hHbZ8YnEoxFdzNydNlX3cGCFzGznZz3YkbrQvU_JQs7eLhA_-Urnejal3lU7dWYoaaGa2YvXMCtk4fja9HQCkBRARB79A5pnc0VJYQFIh5fzvNZmtDn5ZoxnnC_S-cOEO7f9BOHew6D0KEH5PwDYD_uSPnX7Af1c4mNDJE=\",\"text\":\"Here's an analysis of the COA against the Spec Sheet for Product No.: ES788:\\n\\n**Analysis of COA against Spec Sheet for Product No.: ES788**\\n\\nHere's a comparison of the observed values from the COA against the required specifications:\\n\\n1.  **Appearance:**\\n    *   **COA Observation:** Clear\\n    *   **Specification Requirement:** Clear, colorless, no observable particulate\\n    *   **Finding:** The COA indicates \\\"Clear,\\\" which aligns with part of the specification. However, it does not explicitly state \\\"colorless\\\" or \\\"no observable particulate.\\\" While \\\"Clear\\\" often implies no particulates, the \\\"colorless\\\" aspect is not directly confirmed by this parameter alone.\\n\\n2.  **Color (APHA):**\\n    *   **COA Observation:** 15\\n    *   **Specification Requirement:** 10 Max\\n    *   **Finding:** The observed Color (APHA) of **15** exceeds the maximum allowed limit of **10**. This parameter **does not meet the requirement.**\\n\\n3.  **Specific Gravity @20°C:**\\n    *   **COA Observation:** 0.929 @20°C\\n    *   **Specification Requirement:** 0.9114-0.9246 @20°C\\n    *   **Finding:** The observed Specific Gravity of **0.929** is outside the specified range of 0.9114 to 0.9246 (it is higher than the upper limit). This parameter **does not meet the requirement.**\\n\\n**Summary:**\\n\\nThe product, Product No.: ES788, as described in the provided Certificate of Analysis, **does not comply** with the requirements outlined in the Spec Sheet. Specifically, it fails to meet the specifications for:\\n\\n*   **Color (APHA):** The observed value (15) is higher than the maximum allowed (10).\\n*   **Specific Gravity @20°C:** The observed value (0.929) is outside the acceptable range (0.9114-0.9246).\\n\\nI will now transfer to the HoldPipelineAgent to execute the product hold pipeline.\"},{\"functionCall\":{\"id\":\"adk-a0584d6e-ed7a-41dc-a8f5-0095c2aea610\",\"args\":{\"agent_name\":\"HoldPipelineAgent\"},\"name\":\"transfer_to_agent\"}}],\"role\":\"model\"},\"finishReason\":\"STOP\",\"usageMetadata\":{\"cacheTokensDetails\":[{\"modality\":\"TEXT\",\"tokenCount\":1227}],\"cachedContentTokenCount\":1227,\"candidatesTokenCount\":485,\"candidatesTokensDetails\":[{\"modality\":\"TEXT\",\"tokenCount\":485}],\"promptTokenCount\":2102,\"promptTokensDetails\":[{\"modality\":\"TEXT\",\"tokenCount\":2715}],\"thoughtsTokenCount\":70,\"totalTokenCount\":2657,\"trafficType\":\"ON_DEMAND\"},\"invocationId\":\"e-86000205-c62a-4d3c-a931-338ea4f738e7\",\"author\":\"COAAnalysisAgent\",\"actions\":{\"stateDelta\":{},\"artifactDelta\":{},\"requestedAuthConfigs\":{},\"requestedToolConfirmations\":{}},\"longRunningToolIds\":[],\"id\":\"5abe3e2e-1c15-4622-b231-47a157a00326\",\"timestamp\":1758221761.104489}\n",
      "\n",
      "data: {\"content\":{\"parts\":[{\"functionResponse\":{\"id\":\"adk-a0584d6e-ed7a-41dc-a8f5-0095c2aea610\",\"name\":\"transfer_to_agent\",\"response\":{\"result\":null}}}],\"role\":\"user\"},\"invocationId\":\"e-86000205-c62a-4d3c-a931-338ea4f738e7\",\"author\":\"COAAnalysisAgent\",\"actions\":{\"stateDelta\":{},\"artifactDelta\":{},\"transferToAgent\":\"HoldPipelineAgent\",\"requestedAuthConfigs\":{},\"requestedToolConfirmations\":{}},\"id\":\"7e33b37a-82a4-4796-b41a-6a7bdb015196\",\"timestamp\":1758221763.393787}\n",
      "\n",
      "data: {\"content\":{\"parts\":[{\"thoughtSignature\":\"CvEDAR_MhbYyKCmF9jJrDUzdpHO6dQvCJQNQePD6l0_XTY99PvLa-twUetRwRcCTQbNJNV0DdeocbGwYh_crVHNukZob9wt7pwS2YP1DdgLOu3Pz04fOptjepleBilfE0MpI2_58YoEA38vatmXHbupukD9-qlHkBS3v5v9X6dzlNRluxD43gQ2GPaguao2-XPEObt6X-qnp_KjdVhEdr5CIsc0uLVPnnqmb48kIkmeDu6jmJgSYblRCaNjHwAfEXG0BA5nIGvz6GQdNV_ztXqLIy_yEjkcEhSvZRcTo6z4qLH-wIW8iJ7L9uFYe-ygEQTg9TtigA6erBz8_C1qaEtR3LVjSOaDJcrcRl_fnWADEFyWtxRl8w9qU3sWnDiULiNJ5trUsE_cDZImnAwaFHwmr6w1sMPjTa8f0HR4toYC9zJ7cI84_5KtjACtq5nUwaKU_v0-bE9EnfjDen687bqh2rMGn5cJBoMAHgcFhz7JUSI38Op9Rh-AGPk2ElwX8zOGSCjGBrCArLPFp98eXs52HoG__2OuAld3Sav3P-eYnC93GSNdNsq0PXWGzDgG0a47cBRT9Gm0ZPQ-6GgZ1EWJO6i52zKMxRgF8W9_JOBKx4oGYQqwaWZjeALhnJeTTCtwde4xGmQw_klmLbl7SzY00AMo=\",\"functionCall\":{\"id\":\"adk-ac27db54-658a-4264-bb0b-bcdb5105a19f\",\"args\":{},\"name\":\"determine_hold\"}}],\"role\":\"model\"},\"finishReason\":\"STOP\",\"usageMetadata\":{\"candidatesTokenCount\":3,\"candidatesTokensDetails\":[{\"modality\":\"TEXT\",\"tokenCount\":3}],\"promptTokenCount\":2454,\"promptTokensDetails\":[{\"modality\":\"TEXT\",\"tokenCount\":2743}],\"thoughtsTokenCount\":94,\"totalTokenCount\":2551,\"trafficType\":\"ON_DEMAND\"},\"invocationId\":\"e-86000205-c62a-4d3c-a931-338ea4f738e7\",\"author\":\"ProductHoldAgent\",\"actions\":{\"stateDelta\":{},\"artifactDelta\":{},\"requestedAuthConfigs\":{},\"requestedToolConfirmations\":{}},\"longRunningToolIds\":[],\"id\":\"e2de35c3-1bb5-441a-937e-9e88750b7d39\",\"timestamp\":1758221763.396977}\n",
      "\n",
      "data: {\"content\":{\"parts\":[{\"functionResponse\":{\"id\":\"adk-ac27db54-658a-4264-bb0b-bcdb5105a19f\",\"name\":\"determine_hold\",\"response\":{\"status\":\"success\",\"summary\":\"The product does not conform and should be put on hold.\"}}}],\"role\":\"user\"},\"invocationId\":\"e-86000205-c62a-4d3c-a931-338ea4f738e7\",\"author\":\"ProductHoldAgent\",\"actions\":{\"stateDelta\":{\"product_hold\":\"true\"},\"artifactDelta\":{},\"requestedAuthConfigs\":{},\"requestedToolConfirmations\":{}},\"id\":\"f9c8b152-21cb-43a6-a51d-b11f264f3f50\",\"timestamp\":1758221768.797178}\n",
      "\n",
      "data: {\"content\":{\"parts\":[{\"text\":\"The product does not conform to specifications and should be put on hold.\"}],\"role\":\"model\"},\"finishReason\":\"STOP\",\"usageMetadata\":{\"cacheTokensDetails\":[{\"modality\":\"TEXT\",\"tokenCount\":2254}],\"cachedContentTokenCount\":2254,\"candidatesTokenCount\":14,\"candidatesTokensDetails\":[{\"modality\":\"TEXT\",\"tokenCount\":14}],\"promptTokenCount\":2475,\"promptTokensDetails\":[{\"modality\":\"TEXT\",\"tokenCount\":2856}],\"totalTokenCount\":2489,\"trafficType\":\"ON_DEMAND\"},\"invocationId\":\"e-86000205-c62a-4d3c-a931-338ea4f738e7\",\"author\":\"ProductHoldAgent\",\"actions\":{\"stateDelta\":{},\"artifactDelta\":{},\"requestedAuthConfigs\":{},\"requestedToolConfirmations\":{}},\"id\":\"6d133067-5973-42b5-ade0-dfb46897de41\",\"timestamp\":1758221768.801683}\n",
      "\n",
      "data: {\"content\":{\"parts\":[{\"thoughtSignature\":\"CoIEAR_MhbbupMrEhWdGm_NuAZtG_Gwjalg5Ly2qjzhaLZn1uq1_h1tZk4ctzt8Va6WbnJsKYRZj7v5JS8FLNmERH5wBxdGrnAZnTZlz9_j_esLEI_V43780dxpH_tpBHcH61S3ZweQ_x-91mxAu-XT2MYgiwzv8lnfNW95jY26LAwxwFny5ATN5ggo3hR4bx0zPgIpcL1O5LzhVUX5xhLlAka6q_4X9HFA8YHBu27lKZ6RPSMFk4vOlyHd8Y-Yl2NMcBJsTVtff5TmsinhhZ1j9lrmTvNA8I897BeAC1d1WWhqSv--RHOQW1mT5ckv8XYPpAqmBSBG1HCk0sMKkQr_s47T6DJgCQAqGvZZUh0ZBLfHIkKdNIvTyhyprWgxRc73qVlufTrkJGVry5bdietAoU8U3ry9JufI8l2jgow6oYuHS-LD4j-9gVIYkMynxzgxbnprl5bwprgoEh0UBvdRyk_6Dub-Nu1LVKjToDUDefq6qoOW0gG1AW6yPIjk2ry4ZwrQByZ4fJlnM1XmcA05exWpym0Zxuvk62oKYwzpV8uCdqwKmXE9chCjEmbC5a0Go_60-3LsXVSPLZ_Rh93UYM6WMYVdDqEdGKqYWYGjjrGOuI9rXcekDKPydqsg1AO_lp1UTYB_bHL3mn1gdZL3rgSQx7IvkVBMhiJo-kZp52iNHbg==\",\"functionCall\":{\"id\":\"adk-05bbd6a8-cd19-4325-b802-513eefd83397\",\"args\":{},\"name\":\"update_hold_database\"}}],\"role\":\"model\"},\"finishReason\":\"STOP\",\"usageMetadata\":{\"candidatesTokenCount\":5,\"candidatesTokensDetails\":[{\"modality\":\"TEXT\",\"tokenCount\":5}],\"promptTokenCount\":2468,\"promptTokensDetails\":[{\"modality\":\"TEXT\",\"tokenCount\":2568}],\"thoughtsTokenCount\":105,\"totalTokenCount\":2578,\"trafficType\":\"ON_DEMAND\"},\"invocationId\":\"e-86000205-c62a-4d3c-a931-338ea4f738e7\",\"author\":\"DatabaseUpdateAgent\",\"actions\":{\"stateDelta\":{},\"artifactDelta\":{},\"requestedAuthConfigs\":{},\"requestedToolConfirmations\":{}},\"longRunningToolIds\":[],\"id\":\"08eb54b8-12de-4478-a16f-781a5a3962aa\",\"timestamp\":1758221769.718868}\n",
      "\n",
      "data: {\"content\":{\"parts\":[{\"functionResponse\":{\"id\":\"adk-05bbd6a8-cd19-4325-b802-513eefd83397\",\"name\":\"update_hold_database\",\"response\":{\"status\":\"success\",\"message\":\"The product has been put on hold.\"}}}],\"role\":\"user\"},\"invocationId\":\"e-86000205-c62a-4d3c-a931-338ea4f738e7\",\"author\":\"DatabaseUpdateAgent\",\"actions\":{\"stateDelta\":{},\"artifactDelta\":{},\"requestedAuthConfigs\":{},\"requestedToolConfirmations\":{}},\"id\":\"af3413ae-bed3-46d9-980e-66fa3cb83a05\",\"timestamp\":1758221771.177159}\n",
      "\n",
      "data: {\"content\":{\"parts\":[{\"text\":\"The product has been put on hold.\"}],\"role\":\"model\"},\"finishReason\":\"STOP\",\"usageMetadata\":{\"cacheTokensDetails\":[{\"modality\":\"TEXT\",\"tokenCount\":1591}],\"cachedContentTokenCount\":1591,\"candidatesTokenCount\":8,\"candidatesTokensDetails\":[{\"modality\":\"TEXT\",\"tokenCount\":8}],\"promptTokenCount\":2489,\"promptTokensDetails\":[{\"modality\":\"TEXT\",\"tokenCount\":2692}],\"totalTokenCount\":2497,\"trafficType\":\"ON_DEMAND\"},\"invocationId\":\"e-86000205-c62a-4d3c-a931-338ea4f738e7\",\"author\":\"DatabaseUpdateAgent\",\"actions\":{\"stateDelta\":{},\"artifactDelta\":{},\"requestedAuthConfigs\":{},\"requestedToolConfirmations\":{}},\"id\":\"9e0c1043-181f-46d2-9861-662f67a9447a\",\"timestamp\":1758221771.182128}\n",
      "\n",
      "\n"
     ]
    }
   ],
   "source": [
    "print(response.text.split('data: ', 1)[1])"
   ]
  },
  {
   "cell_type": "code",
   "execution_count": null,
   "id": "3ac5a94b",
   "metadata": {},
   "outputs": [],
   "source": []
  }
 ],
 "metadata": {
  "kernelspec": {
   "display_name": "env",
   "language": "python",
   "name": "python3"
  },
  "language_info": {
   "codemirror_mode": {
    "name": "ipython",
    "version": 3
   },
   "file_extension": ".py",
   "mimetype": "text/x-python",
   "name": "python",
   "nbconvert_exporter": "python",
   "pygments_lexer": "ipython3",
   "version": "3.12.8"
  }
 },
 "nbformat": 4,
 "nbformat_minor": 5
}
