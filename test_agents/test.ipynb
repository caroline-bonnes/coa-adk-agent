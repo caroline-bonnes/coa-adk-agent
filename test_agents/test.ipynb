{
 "cells": [
  {
   "cell_type": "code",
   "execution_count": 11,
   "id": "3ae9939e",
   "metadata": {},
   "outputs": [],
   "source": [
    "from google.cloud import storage\n",
    "\n",
    "import vertexai\n",
    "from vertexai.generative_models import GenerativeModel, Part\n",
    "from google.adk.tools import ToolContext\n",
    "\n",
    "# Initialize Vertex AI once\n",
    "vertexai.init()"
   ]
  },
  {
   "cell_type": "code",
   "execution_count": null,
   "id": "a19350cb",
   "metadata": {},
   "outputs": [],
   "source": [
    "\n",
    "\n",
    "def get_spec(spec_name):\n",
    "    gcs_uri = f'gs://cob-agent-sandbox/schreiber-specs/{spec_name} Spec Sheet.pdf'\n",
    "    print(gcs_uri)\n",
    "    model = GenerativeModel(\"gemini-2.5-flash\")\n",
    "\n",
    "    # Create a Part object directly from the GCS URI\n",
    "    pdf_file = Part.from_uri(\n",
    "        mime_type=\"application/pdf\",\n",
    "        uri=gcs_uri\n",
    "    )\n",
    "\n",
    "    # The prompt for the model\n",
    "    prompt = \"Please provide a concise summary of this document.\"\n",
    "\n",
    "    # Construct the full request and generate the content\n",
    "    response = model.generate_content([pdf_file, prompt])\n",
    "\n",
    "    return  {\"status\": \"success\", \"summary\": response.text}\n"
   ]
  },
  {
   "cell_type": "code",
   "execution_count": 23,
   "id": "5b0b5c85",
   "metadata": {},
   "outputs": [
    {
     "name": "stdout",
     "output_type": "stream",
     "text": [
      "gs://cob-agent-sandbox/schreiber-specs/ES788 Spec Sheet.pdf\n"
     ]
    },
    {
     "data": {
      "text/plain": [
       "{'status': 'success',\n",
       " 'summary': 'This document is a spec sheet for Product No. ES788. It outlines the quality requirements for the product, including:\\n*   **Appearance:** Clear, colorless, with no observable particulate.\\n*   **Color (APHA):** Maximum of 10.\\n*   **Specific Gravity @20°C:** Within the range of 0.9114-0.9246.'}"
      ]
     },
     "execution_count": 23,
     "metadata": {},
     "output_type": "execute_result"
    }
   ],
   "source": [
    "get_spec('ES788')"
   ]
  },
  {
   "cell_type": "code",
   "execution_count": null,
   "id": "6e91deb7",
   "metadata": {},
   "outputs": [],
   "source": [
    "def extract_product_no(gcs_uri: str) -> str:\n",
    "    \"\"\"\n",
    "    Extracts the product number from a PDF document stored in a Google Cloud Storage bucket.\n",
    "\n",
    "    This tool leverages the native multimodal capabilities of Gemini to read\n",
    "    a PDF directly from a GCS URI and extracts the product number.\n",
    "\n",
    "    Args:\n",
    "        gcs_uri: The GCS URI of the PDF file to summarize.\n",
    "                 (e.g., \"gs://your-bucket-name/your-file.name.pdf\")\n",
    "\n",
    "    Returns:\n",
    "        A string only the product number.\n",
    "    \"\"\"\n",
    " \n",
    "    model = GenerativeModel(\"gemini-2.5-flash\")\n",
    "\n",
    "    # Create a Part object directly from the GCS URI\n",
    "    pdf_file = Part.from_uri(\n",
    "        mime_type=\"application/pdf\",\n",
    "        uri=gcs_uri\n",
    "    )\n",
    "\n",
    "    # The prompt for the model\n",
    "    prompt = \"Extract the product number from the document. Retrun only the product number.\"\n",
    "\n",
    "    # Construct the full request and generate the content\n",
    "    response = model.generate_content([pdf_file, prompt])\n",
    "\n",
    "    return  {\"status\": \"success\", \"Product\": response.text}\n"
   ]
  },
  {
   "cell_type": "code",
   "execution_count": 25,
   "id": "51ab42f8",
   "metadata": {},
   "outputs": [
    {
     "name": "stderr",
     "output_type": "stream",
     "text": [
      "/Users/carolinebonnes/github/adk/schreiber-adk/env/lib/python3.12/site-packages/vertexai/generative_models/_generative_models.py:433: UserWarning: This feature is deprecated as of June 24, 2025 and will be removed on June 24, 2026. For details, see https://cloud.google.com/vertex-ai/generative-ai/docs/deprecations/genai-vertexai-sdk.\n",
      "  warning_logs.show_deprecation_warning()\n"
     ]
    },
    {
     "data": {
      "text/plain": [
       "{'status': 'success', 'summary': 'ES788'}"
      ]
     },
     "execution_count": 25,
     "metadata": {},
     "output_type": "execute_result"
    }
   ],
   "source": [
    "extract_product_no('gs://cob-agent-sandbox/schreiber_test/sample_coa.pdf')"
   ]
  },
  {
   "cell_type": "code",
   "execution_count": 2,
   "id": "1cb42b75",
   "metadata": {},
   "outputs": [],
   "source": [
    "def determine_hold(analysis):\n",
    "    \"\"\"\n",
    "    Reviews the analysis of a COA document against it's spec sheet.\n",
    "\n",
    "    This tool leverages Gemini to review an analysis and determine if a product should go on hold. \n",
    "\n",
    "    Args:\n",
    "        analysis: The analysis to review.\n",
    "\n",
    "    Returns:\n",
    "        A string containing a `True` or `False ` response. \n",
    "    \"\"\"\n",
    "\n",
    "    model = GenerativeModel(\"gemini-2.5-flash\")\n",
    "\n",
    "    prompt = f\"Review the provided analysis. If any metrics do not conform, or are out of range, return True. \\\n",
    "    If all metrics conform to specifications, and all required metrics are provided, return False.\\\n",
    "    Analysis: {analysis}\"\n",
    "    \n",
    "    response = model.generate_content([prompt]).text.strip().lower()\n",
    "\n",
    "    print(response.lower)\n",
    "    if response=='true': \n",
    "        return  {\"status\": \"success\", \"summary\": 'The product does not conform and should be put on hold.'}\n",
    "    else:\n",
    "        return  {\"status\": \"success\", \"summary\": \"The product conforms to all specs.\"}"
   ]
  },
  {
   "cell_type": "code",
   "execution_count": 6,
   "id": "e08291a2",
   "metadata": {},
   "outputs": [
    {
     "name": "stderr",
     "output_type": "stream",
     "text": [
      "/Users/carolinebonnes/github/adk/schreiber-adk/env/lib/python3.12/site-packages/vertexai/generative_models/_generative_models.py:433: UserWarning: This feature is deprecated as of June 24, 2025 and will be removed on June 24, 2026. For details, see https://cloud.google.com/vertex-ai/generative-ai/docs/deprecations/genai-vertexai-sdk.\n",
      "  warning_logs.show_deprecation_warning()\n"
     ]
    },
    {
     "name": "stdout",
     "output_type": "stream",
     "text": [
      "<built-in method lower of str object at 0x156c0bbd0>\n"
     ]
    },
    {
     "data": {
      "text/plain": [
       "{'status': 'success', 'summary': 'The product conforms to all specs.'}"
      ]
     },
     "execution_count": 6,
     "metadata": {},
     "output_type": "execute_result"
    }
   ],
   "source": [
    "analysis = \"\"\"The provided Certificate of Analysis (COA) for Product No.: ES788 aligns perfectly with the requirements outlined in the Spec Sheet for the same product. Here's a breakdown of the comparison: **1. Specification Requirements vs. COA Requirements:** * **Appearance:** * **Spec Sheet Requirement:** \"Clear, colorless, no observable particulate\" * **COA Lot #2234008 Requirement:** \"Clear, colorless, no observable particulate\" * **COA Lot #2313621 Requirement:** \"Clear, colorless, no observable particulate\" * **Match:** Perfect match. * **Color (APHA):** * **Spec Sheet Requirement:** \"10 Max\" * **COA Lot #2234008 Requirement:** \"10 Max\" * **COA Lot #2313621 Requirement:** \"10 Max\" * **Match:** Perfect match. * **Specific Gravity @20°C:** * **Spec Sheet Requirement:** \"0.9114-0.9246 @20°C\" * **COA Lot #2234008 Requirement:** \"0.9114-0.9246 @20°C\" * **COA Lot #2313621 Requirement:** \"0.9114-0.9246 @20°C\" * **Match:** Perfect match. **2. COA Results vs. Requirements:** * **Lot #2234008:** * **Appearance:** \"Conforms\" (meets \"Clear, colorless, no observable particulate\") * **Color (APHA):** \"0\" (meets \"10 Max\") * **Specific Gravity @20°C:** \"0.9200\" (falls within \"0.9114-0.9246\") * **Conclusion for Lot #2234008:** All results meet the specified requirements. * **Lot #2313621:** * **Appearance:** \"Colorless Liquid\" (meets \"Clear, colorless, no observable particulate\") * **Color (APHA):** \"0\" (meets \"10 Max\") * **Specific Gravity @20°C:** \"0.920\" (falls within \"0.9114-0.9246\") * **Conclusion for Lot #2313621:** All results meet the specified requirements. **Summary:** Both lots (2234008 and 2313621) detailed in the Certificate of Analysis (COA) demonstrate full compliance with the specification requirements outlined in the Spec Sheet for Product No.: ES788. The \"Requirements\" listed in the COA are identical to those in the Spec Sheet, and the \"Results\" for both lots successfully meet these established criteria.\"\"\"\n",
    "determine_hold(analysis)"
   ]
  },
  {
   "cell_type": "code",
   "execution_count": 14,
   "id": "85acd59c",
   "metadata": {},
   "outputs": [],
   "source": [
    "def update_database():\n",
    "\n",
    "    storage_client = storage.Client()\n",
    "    bucket = storage_client.bucket('cob-agent-sandbox')\n",
    "    blob = bucket.blob('schreiber_test/product_holds.txt')\n",
    "\n",
    "    product = ''\n",
    "\n",
    "    new_line = f'Product #{product} status: Hold'\n",
    "\n",
    "    existing_content = blob.download_as_text()\n",
    "\n",
    "    new_content = existing_content + \"\\n\" + new_line\n",
    "\n",
    "    blob.upload_from_string(new_content, content_type='text/plain')\n"
   ]
  },
  {
   "cell_type": "code",
   "execution_count": null,
   "id": "0dca920a",
   "metadata": {},
   "outputs": [],
   "source": []
  },
  {
   "cell_type": "code",
   "execution_count": null,
   "id": "1ca64488",
   "metadata": {},
   "outputs": [],
   "source": []
  }
 ],
 "metadata": {
  "kernelspec": {
   "display_name": "env",
   "language": "python",
   "name": "python3"
  },
  "language_info": {
   "codemirror_mode": {
    "name": "ipython",
    "version": 3
   },
   "file_extension": ".py",
   "mimetype": "text/x-python",
   "name": "python",
   "nbconvert_exporter": "python",
   "pygments_lexer": "ipython3",
   "version": "3.12.8"
  }
 },
 "nbformat": 4,
 "nbformat_minor": 5
}
